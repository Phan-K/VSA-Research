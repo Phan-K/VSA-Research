{
 "cells": [
  {
   "cell_type": "markdown",
   "metadata": {},
   "source": [
    "# Sentence Vectors\n",
    "In this section, I will be creating sentence vectors for the study plans. Because each study plan should only have one of a certain type of course, the number of occurrences of a course should only be 1. In this case, I will be ignoring the sequence order of the plan when building it.\n",
    "\n",
    "A sentence vector is a representation of a sentence in a vector space. While there are different ways of representing a sentence, including ways that do preserve the spacial location of a word."
   ]
  },
  {
   "cell_type": "code",
   "execution_count": 6,
   "metadata": {},
   "outputs": [
    {
     "name": "stdout",
     "output_type": "stream",
     "text": [
      "104\n"
     ]
    }
   ],
   "source": [
    "# Load file\n",
    "with open('studyplan_document.txt', 'r') as file:\n",
    "    data = file.read()\n",
    "    \n",
    "words = data.split(' ')\n",
    "\n",
    "#build dictionary\n",
    "dictionary = {}\n",
    "word_no = 0\n",
    "\n",
    "for word in words:\n",
    "    if word not in dictionary.keys():\n",
    "        dictionary[word] = word_no\n",
    "        word_no = word_no+1\n",
    "        \n",
    "print (len(dictionary))"
   ]
  },
  {
   "cell_type": "code",
   "execution_count": 7,
   "metadata": {},
   "outputs": [],
   "source": [
    "import pandas as pd\n",
    "import numpy as np\n",
    "\n",
    "plans = pd.read_csv(\"studyplans_no_index.csv\")\n",
    "\n",
    "plan_to_vector = {}\n",
    "\n",
    "#create 1-hot encoding and store it in the plan-to-vector dictionary\n",
    "for i, row in plans.iterrows():\n",
    "    vector = np.zeros(len(dictionary))\n",
    "    sentence = row['Sentence'].split(' ')\n",
    "    for word in sentence:\n",
    "        index = dictionary[word]\n",
    "        vector[index] = 1\n",
    "    plan_to_vector[row['PlanID']] = vector"
   ]
  },
  {
   "cell_type": "code",
   "execution_count": 8,
   "metadata": {},
   "outputs": [
    {
     "name": "stdout",
     "output_type": "stream",
     "text": [
      "[ 0.  1.  1.  0.  0.  1.  0.  0.  1.  1.  1.  0.  1.  1.  1.  1.  1.  0.\n",
      "  0.  0.  0.  0.  0.  0.  0.  0.  1.  0.  0.  0.  0.  0.  0.  0.  0.  0.\n",
      "  0.  0.  0.  0.  0.  0.  0.  0.  0.  0.  0.  0.  0.  0.  0.  0.  0.  0.\n",
      "  0.  0.  0.  0.  0.  0.  0.  0.  0.  0.  0.  0.  0.  0.  0.  0.  0.  0.\n",
      "  0.  0.  0.  0.  0.  0.  0.  0.  0.  0.  0.  0.  0.  0.  0.  0.  0.  0.\n",
      "  0.  0.  0.  0.  0.  0.  0.  0.  0.  0.  0.  0.  0.  0.]\n"
     ]
    }
   ],
   "source": [
    "plan1 = plan_to_vector[5]\n",
    "\n",
    "print(plan1)"
   ]
  },
  {
   "cell_type": "code",
   "execution_count": null,
   "metadata": {
    "collapsed": true
   },
   "outputs": [],
   "source": []
  }
 ],
 "metadata": {
  "kernelspec": {
   "display_name": "Python 3",
   "language": "python",
   "name": "python3"
  },
  "language_info": {
   "codemirror_mode": {
    "name": "ipython",
    "version": 3
   },
   "file_extension": ".py",
   "mimetype": "text/x-python",
   "name": "python",
   "nbconvert_exporter": "python",
   "pygments_lexer": "ipython3",
   "version": "3.6.3"
  }
 },
 "nbformat": 4,
 "nbformat_minor": 2
}
